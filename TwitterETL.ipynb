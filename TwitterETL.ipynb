{
 "cells": [
  {
   "cell_type": "code",
   "execution_count": null,
   "source": [
    "import pandas as pd\n",
    "import tweepy\n",
    "import config"
   ],
   "outputs": [],
   "metadata": {}
  },
  {
   "cell_type": "code",
   "execution_count": null,
   "source": [
    "tweet_text = []\n",
    "username = []\n",
    "date_time = []\n",
    "id_str = []\n",
    "verified = []\n",
    "followers_count = []\n",
    "favourites_count = []\n",
    "statuses_count = []"
   ],
   "outputs": [],
   "metadata": {}
  },
  {
   "cell_type": "code",
   "execution_count": null,
   "source": [
    "class KeywordStream(tweepy.Stream):\n",
    "\n",
    "    def on_status(self, status):\n",
    "        if status.truncated == False:\n",
    "          tweet_text.append(status.text)\n",
    "        else:\n",
    "          tweet_text.append(status.extended_tweet[\"full_text\"])\n",
    "        username.append(status.user.screen_name)\n",
    "        date_time.append(status.created_at)\n",
    "        id_str.append(status.id_str)\n",
    "        verified.append(status.user.verified)\n",
    "        followers_count.append(status.user.followers_count)\n",
    "        favourites_count.append(status.user.favourites_count)\n",
    "        statuses_count.append(status.user.statuses_count)\n",
    "\n",
    "\n",
    "stream = KeywordStream(\n",
    "  config.consumer_key, config.consumer_secret,\n",
    "    config.access_token, config.access_token_secret\n",
    ")\n",
    "stream.filter(track=[\"Everton\"])\n"
   ],
   "outputs": [],
   "metadata": {}
  },
  {
   "cell_type": "code",
   "execution_count": null,
   "source": [
    "user = pd.DataFrame({'Username': username, 'ID': id_str, 'Tweet': tweet_text})"
   ],
   "outputs": [],
   "metadata": {}
  },
  {
   "cell_type": "code",
   "execution_count": null,
   "source": [
    "analytics = pd.DataFrame({'Verified Status': verified, 'Follower Count': followers_count, 'Favourites Count': favourites_count, 'Statuses Count': statuses_count})"
   ],
   "outputs": [],
   "metadata": {}
  },
  {
   "cell_type": "code",
   "execution_count": null,
   "source": [
    "published_date = pd.DataFrame({'DateTime Created': date_time})"
   ],
   "outputs": [],
   "metadata": {}
  },
  {
   "cell_type": "code",
   "execution_count": null,
   "source": [
    "published_date['DateTime Created'] = pd.to_datetime(published_date['DateTime Created'])\n",
    "published_date['day'] = published_date['DateTime Created'].dt.day\n",
    "published_date['month'] = published_date['DateTime Created'].dt.month\n",
    "published_date['year'] = published_date['DateTime Created'].dt.year\n",
    "published_date['day_of_week'] = published_date['DateTime Created'].dt.day_name()"
   ],
   "outputs": [],
   "metadata": {}
  },
  {
   "cell_type": "code",
   "execution_count": null,
   "source": [
    "published_date"
   ],
   "outputs": [],
   "metadata": {}
  },
  {
   "cell_type": "code",
   "execution_count": 34,
   "source": [
    "user.to_csv('twitteruserdata.csv', index=False)\n",
    "analytics.to_csv('twitteruseranalytics.csv', index=False)\n",
    "published_date.to_csv('twitteruserpublisheddate.csv', index=False)"
   ],
   "outputs": [],
   "metadata": {}
  }
 ],
 "metadata": {
  "orig_nbformat": 4,
  "language_info": {
   "name": "python",
   "version": "3.10.1",
   "mimetype": "text/x-python",
   "codemirror_mode": {
    "name": "ipython",
    "version": 3
   },
   "pygments_lexer": "ipython3",
   "nbconvert_exporter": "python",
   "file_extension": ".py"
  },
  "kernelspec": {
   "name": "python3",
   "display_name": "Python 3.10.0 64-bit ('data_analyst_work': conda)"
  },
  "interpreter": {
   "hash": "1701778a9ee1609664375dbf64974c707f85a7e3166d665a9a96f59bec67a19f"
  }
 },
 "nbformat": 4,
 "nbformat_minor": 2
}